{
 "cells": [
  {
   "cell_type": "markdown",
   "metadata": {},
   "source": [
    "# Advent of Code 2022"
   ]
  },
  {
   "cell_type": "markdown",
   "metadata": {},
   "source": [
    "## Day 1A"
   ]
  },
  {
   "cell_type": "code",
   "execution_count": 39,
   "metadata": {},
   "outputs": [
    {
     "name": "stdout",
     "output_type": "stream",
     "text": [
      "Highest calorie count: 72718\n"
     ]
    }
   ],
   "source": [
    "input = open(\"input/day1.txt\", \"r\").read()\n",
    "res = [sum([int(i) for i in elve.split(\"\\n\")]) for elve in input.split(\"\\n\\n\")]\n",
    "res.sort()\n",
    "print(f\"Highest calorie count: {res[-1]}\")"
   ]
  },
  {
   "cell_type": "markdown",
   "metadata": {},
   "source": [
    "## Day 1B"
   ]
  },
  {
   "cell_type": "code",
   "execution_count": 40,
   "metadata": {},
   "outputs": [
    {
     "name": "stdout",
     "output_type": "stream",
     "text": [
      "Top 3 summed: 213089 Calories\n"
     ]
    }
   ],
   "source": [
    "input = open(\"input/day1.txt\", \"r\").read()\n",
    "res = [sum([int(i) for i in elve.split(\"\\n\")]) for elve in input.split(\"\\n\\n\")]\n",
    "res.sort()\n",
    "print(f\"Top 3 summed: {sum(res[-3:])} Calories\")\n"
   ]
  },
  {
   "cell_type": "markdown",
   "metadata": {},
   "source": [
    "## Day 2A"
   ]
  },
  {
   "cell_type": "code",
   "execution_count": 41,
   "metadata": {},
   "outputs": [
    {
     "name": "stdout",
     "output_type": "stream",
     "text": [
      "Points: 13924\n"
     ]
    }
   ],
   "source": [
    "games = open(\"input/day2.txt\", \"r\").read().split(\"\\n\")\n",
    "d = [\"A Y\", \"B Z\", \"C X\"]\n",
    "points = sum([ord(game[2])-87+(3*int(ord(game[2])-23-ord(game[0])==0))+(6*int(game in d)) for game in games]) \n",
    "print(f\"Points: {points}\")"
   ]
  },
  {
   "cell_type": "markdown",
   "metadata": {},
   "source": [
    "## Day 2B"
   ]
  },
  {
   "cell_type": "code",
   "execution_count": 42,
   "metadata": {},
   "outputs": [
    {
     "name": "stdout",
     "output_type": "stream",
     "text": [
      "Points: 13448\n"
     ]
    }
   ],
   "source": [
    "games = open(\"input/day2.txt\", \"r\").read().split(\"\\n\")\n",
    "points = sum([((ord(game[2])-88)*3)+((ord(game[0])+ord(game[2])-13)%3)+1 for game in games])\n",
    "print(f\"Points: {points}\")"
   ]
  },
  {
   "cell_type": "markdown",
   "metadata": {},
   "source": [
    "## Day 3A\n",
    "\n",
    "Sadly not my prettiest one, I repeated myself on line 2..."
   ]
  },
  {
   "cell_type": "code",
   "execution_count": 43,
   "metadata": {},
   "outputs": [
    {
     "name": "stdout",
     "output_type": "stream",
     "text": [
      "7850\n"
     ]
    }
   ],
   "source": [
    "sacks = open(\"input/day3.txt\", \"r\").read().split(\"\\n\")\n",
    "f = lambda s : ord(''.join(set(s[int((len(s)/2)):]).intersection(s[:int((len(s)/2))])))-96\n",
    "points = sum([f(s)+(58*int(f(s)<1)) for s in sacks])    \n",
    "print(points)"
   ]
  },
  {
   "cell_type": "markdown",
   "metadata": {},
   "source": [
    "## Day 3B\n",
    "\n",
    "Again not the prettiest, some problem as above..."
   ]
  },
  {
   "cell_type": "code",
   "execution_count": 44,
   "metadata": {},
   "outputs": [
    {
     "name": "stdout",
     "output_type": "stream",
     "text": [
      "2581\n"
     ]
    }
   ],
   "source": [
    "\n",
    "sacks = open(\"input/day3.txt\", \"r\").read().split(\"\\n\")\n",
    "f = lambda l : ord(next(iter(set.intersection(*map(set,l)))))-96\n",
    "points = sum([f(sacks[i:i+3])+(58*int(f(sacks[i:i+3])<1)) for i in range(0, len(sacks)-2, 3)])\n",
    "print(points)"
   ]
  },
  {
   "cell_type": "markdown",
   "metadata": {},
   "source": [
    "## Day 4A"
   ]
  },
  {
   "cell_type": "code",
   "execution_count": 45,
   "metadata": {},
   "outputs": [
    {
     "name": "stdout",
     "output_type": "stream",
     "text": [
      "542\n"
     ]
    }
   ],
   "source": [
    "sections = \"5-7,7-9\\n2-8,3-7\\n6-6,4-6\\n2-6,4-8\" \n",
    "sections = open(\"input/day4.txt\", \"r\").read().split(\"\\n\")\n",
    "points = 0\n",
    "for section in sections:\n",
    "    parts = section.split(\",\")\n",
    "    s1 = set(range(int(parts[0].split(\"-\")[0]), int(parts[0].split(\"-\")[1])+1))\n",
    "    s2 = set(range(int(parts[1].split(\"-\")[0]), int(parts[1].split(\"-\")[1])+1))\n",
    "    points += int(s1.issubset(s2) or s2.issubset(s1))\n",
    "print(points)"
   ]
  },
  {
   "cell_type": "markdown",
   "metadata": {},
   "source": [
    "## Day 4B"
   ]
  },
  {
   "cell_type": "code",
   "execution_count": 46,
   "metadata": {},
   "outputs": [
    {
     "name": "stdout",
     "output_type": "stream",
     "text": [
      "900\n"
     ]
    }
   ],
   "source": [
    "sections = open(\"input/day4.txt\", \"r\").read().split(\"\\n\")\n",
    "points = sum([int(bool(set(range(int(section.split(\",\")[0].split(\"-\")[0]), int(section.split(\",\")[0].split(\"-\")[1])+1))&set(range(int(section.split(\",\")[1].split(\"-\")[0]), int(section.split(\",\")[1].split(\"-\")[1])+1)))) for section in sections])\n",
    "print(points)"
   ]
  },
  {
   "cell_type": "markdown",
   "metadata": {},
   "source": [
    "## Day 5A"
   ]
  },
  {
   "cell_type": "code",
   "execution_count": 54,
   "metadata": {},
   "outputs": [
    {
     "name": "stdout",
     "output_type": "stream",
     "text": [
      "ZRLJGSCTR\n"
     ]
    }
   ],
   "source": [
    "stacks, moves = open(\"input/day5.txt\", \"r\").read().split('\\n\\n')\n",
    "stacks = stacks.split(\"\\n\")[::-1]\n",
    "stacks2 = [[i] for i, c in enumerate(stacks[0]) if c.isnumeric()]\n",
    "[stacks2[i].append(crates_row[stack[0]]) for crates_row in stacks[1:] for i, stack in enumerate(stacks2) if not crates_row[stack[0]] == ' ']\n",
    "for move in moves.split(\"\\n\"):\n",
    "    parts = move.split(\" \")\n",
    "    stacks2[int(parts[5])-1] += stacks2[int(parts[3])-1][len(stacks2[int(parts[3])-1]) - int(parts[1]):][::-1]\n",
    "    del stacks2[int(parts[3])-1][(len(stacks2[int(parts[3])-1]) - int(parts[1])):]\n",
    "print(\"\".join([stack[-1] for stack in stacks2]))\n"
   ]
  },
  {
   "cell_type": "markdown",
   "metadata": {},
   "source": [
    "## Day 5B"
   ]
  },
  {
   "cell_type": "code",
   "execution_count": 55,
   "metadata": {},
   "outputs": [
    {
     "name": "stdout",
     "output_type": "stream",
     "text": [
      "PRTTGRFPB\n"
     ]
    }
   ],
   "source": [
    "stacks, moves = open(\"input/day5.txt\", \"r\").read().split('\\n\\n')\n",
    "stacks = stacks.split(\"\\n\")[::-1]\n",
    "stacks2 = [[i] for i, c in enumerate(stacks[0]) if c.isnumeric()]\n",
    "[stacks2[i].append(crates_row[stack[0]]) for crates_row in stacks[1:] for i, stack in enumerate(stacks2) if not crates_row[stack[0]] == ' ']\n",
    "for move in moves.split(\"\\n\"):\n",
    "    parts = move.split(\" \")\n",
    "    stacks2[int(parts[5])-1] += stacks2[int(parts[3])-1][len(stacks2[int(parts[3])-1]) - int(parts[1]):]\n",
    "    del stacks2[int(parts[3])-1][(len(stacks2[int(parts[3])-1]) - int(parts[1])):]\n",
    "print(\"\".join([stack[-1] for stack in stacks2]))"
   ]
  }
 ],
 "metadata": {
  "kernelspec": {
   "display_name": "Python 3.11.0rc2 64-bit",
   "language": "python",
   "name": "python3"
  },
  "language_info": {
   "codemirror_mode": {
    "name": "ipython",
    "version": 3
   },
   "file_extension": ".py",
   "mimetype": "text/x-python",
   "name": "python",
   "nbconvert_exporter": "python",
   "pygments_lexer": "ipython3",
   "version": "3.11.0rc2"
  },
  "orig_nbformat": 4,
  "vscode": {
   "interpreter": {
    "hash": "ead1b95f633dc9c51826328e1846203f51a198c6fb5f2884a80417ba131d4e82"
   }
  }
 },
 "nbformat": 4,
 "nbformat_minor": 2
}
