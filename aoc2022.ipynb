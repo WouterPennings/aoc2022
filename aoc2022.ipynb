{
 "cells": [
  {
   "cell_type": "markdown",
   "metadata": {},
   "source": [
    "# Advent of Code 2022"
   ]
  },
  {
   "cell_type": "markdown",
   "metadata": {},
   "source": [
    "## Day 1A"
   ]
  },
  {
   "cell_type": "code",
   "execution_count": 3,
   "metadata": {},
   "outputs": [
    {
     "name": "stdout",
     "output_type": "stream",
     "text": [
      "Highest calorie count: 72718\n"
     ]
    }
   ],
   "source": [
    "input = open(\"input/day1.txt\", \"r\").read()\n",
    "res = [sum([int(i) for i in elve.split(\"\\n\")]) for elve in input.split(\"\\n\\n\")]\n",
    "res.sort()\n",
    "print(f\"Highest calorie count: {res[-1]}\")"
   ]
  },
  {
   "cell_type": "markdown",
   "metadata": {},
   "source": [
    "## Day 1B"
   ]
  },
  {
   "cell_type": "code",
   "execution_count": 4,
   "metadata": {},
   "outputs": [
    {
     "name": "stdout",
     "output_type": "stream",
     "text": [
      "Top 3 summed: 213089 Calories\n"
     ]
    }
   ],
   "source": [
    "input = open(\"input/day1.txt\", \"r\").read()\n",
    "res = [sum([int(i) for i in elve.split(\"\\n\")]) for elve in input.split(\"\\n\\n\")]\n",
    "res.sort()\n",
    "print(f\"Top 3 summed: {sum(res[-3:])} Calories\")\n"
   ]
  },
  {
   "cell_type": "markdown",
   "metadata": {},
   "source": [
    "## Day 2A"
   ]
  },
  {
   "cell_type": "code",
   "execution_count": 5,
   "metadata": {},
   "outputs": [
    {
     "name": "stdout",
     "output_type": "stream",
     "text": [
      "Points: 13924\n"
     ]
    }
   ],
   "source": [
    "games = open(\"input/day2.txt\", \"r\").read().split(\"\\n\")\n",
    "d = [\"A Y\", \"B Z\", \"C X\"]\n",
    "points = 0\n",
    "for game in games:\n",
    "    points += ord(game[2]) - 87\n",
    "    if ord(game[2]) - 23 - ord(game[0]) == 0:\n",
    "        points += 3\n",
    "    elif game in d:\n",
    "        points += 6\n",
    "    \n",
    "print(f\"Points: {points}\")"
   ]
  },
  {
   "cell_type": "markdown",
   "metadata": {},
   "source": [
    "## Day 2B"
   ]
  },
  {
   "cell_type": "code",
   "execution_count": 6,
   "metadata": {},
   "outputs": [
    {
     "name": "stdout",
     "output_type": "stream",
     "text": [
      "Points: 13448\n"
     ]
    }
   ],
   "source": [
    "games = open(\"input/day2.txt\", \"r\").read().split(\"\\n\")\n",
    "points = sum([((ord(game[2])-88)*3)+((ord(game[0])+ord(game[2])-13)%3)+1 for game in games])\n",
    "print(f\"Points: {points}\")"
   ]
  }
 ],
 "metadata": {
  "kernelspec": {
   "display_name": "Python 3.11.0rc2 64-bit",
   "language": "python",
   "name": "python3"
  },
  "language_info": {
   "codemirror_mode": {
    "name": "ipython",
    "version": 3
   },
   "file_extension": ".py",
   "mimetype": "text/x-python",
   "name": "python",
   "nbconvert_exporter": "python",
   "pygments_lexer": "ipython3",
   "version": "3.11.0"
  },
  "orig_nbformat": 4,
  "vscode": {
   "interpreter": {
    "hash": "ead1b95f633dc9c51826328e1846203f51a198c6fb5f2884a80417ba131d4e82"
   }
  }
 },
 "nbformat": 4,
 "nbformat_minor": 2
}
