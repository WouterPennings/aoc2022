{
 "cells": [
  {
   "cell_type": "markdown",
   "metadata": {},
   "source": [
    "# Advent of Code 2022 - Day 1B"
   ]
  },
  {
   "cell_type": "code",
   "execution_count": 18,
   "metadata": {},
   "outputs": [
    {
     "name": "stdout",
     "output_type": "stream",
     "text": [
      "Top 3 summed: 213089 Calories\n"
     ]
    }
   ],
   "source": [
    "input = open(\"input/day1.txt\", \"r\").read()\n",
    "res = [sum([int(i) for i in elve.split(\"\\n\")]) for elve in input.split(\"\\n\\n\")]\n",
    "res.sort()\n",
    "print(f\"Top 3 summed: {sum(res[-3:])} Calories\")\n"
   ]
  }
 ],
 "metadata": {
  "kernelspec": {
   "display_name": "Python 3.10.8 64-bit (microsoft store)",
   "language": "python",
   "name": "python3"
  },
  "language_info": {
   "codemirror_mode": {
    "name": "ipython",
    "version": 3
   },
   "file_extension": ".py",
   "mimetype": "text/x-python",
   "name": "python",
   "nbconvert_exporter": "python",
   "pygments_lexer": "ipython3",
   "version": "3.10.8"
  },
  "orig_nbformat": 4,
  "vscode": {
   "interpreter": {
    "hash": "260b6c5f7ed9b3ec2fc4bbca5663148aa47d62dd35a58a1d2e2af6b5cd16452f"
   }
  }
 },
 "nbformat": 4,
 "nbformat_minor": 2
}
