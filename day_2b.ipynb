{
 "cells": [
  {
   "cell_type": "markdown",
   "metadata": {},
   "source": [
    "# Advent of Code 2022 - Day 2B"
   ]
  },
  {
   "cell_type": "code",
   "execution_count": null,
   "metadata": {},
   "outputs": [],
   "source": [
    "games = open(\"input/day2.txt\", \"r\").read().split(\"\\n\")\n",
    "points = sum([((ord(game[2])-88) * 3) + ((ord(game[0])-64 + ord(game[2])-87) % 3+1) for game in games])\n",
    "print(f\"Points: {points}\")"
   ]
  }
 ],
 "metadata": {
  "language_info": {
   "name": "python"
  },
  "orig_nbformat": 4
 },
 "nbformat": 4,
 "nbformat_minor": 2
}
