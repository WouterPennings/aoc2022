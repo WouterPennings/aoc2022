{
 "cells": [
  {
   "cell_type": "markdown",
   "metadata": {},
   "source": [
    "# Advent of Code 2022 - Day 2A"
   ]
  },
  {
   "cell_type": "code",
   "execution_count": null,
   "metadata": {},
   "outputs": [],
   "source": [
    "games = open(\"input/day2.txt\", \"r\").read().split(\"\\n\")\n",
    "d = [\"A Y\", \"B Z\", \"C X\"]\n",
    "points = 0\n",
    "for game in games:\n",
    "    points += ord(game[2]) - 87\n",
    "    if ord(game[2]) - 23 - ord(game[0]) == 0:\n",
    "        points += 3\n",
    "    elif game in d:\n",
    "        points += 6\n",
    "    \n",
    "print(f\"Points: {points}\")"
   ]
  }
 ],
 "metadata": {
  "language_info": {
   "name": "python"
  },
  "orig_nbformat": 4
 },
 "nbformat": 4,
 "nbformat_minor": 2
}
